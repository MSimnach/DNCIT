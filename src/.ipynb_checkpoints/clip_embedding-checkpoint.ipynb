{
 "cells": [
  {
   "cell_type": "code",
   "execution_count": 14,
   "id": "a1b51e14",
   "metadata": {},
   "outputs": [],
   "source": [
    "import torch\n",
    "import numpy as np\n",
    "from PIL import Image\n",
    "import open_clip\n",
    "import json\n",
    "import os\n",
    "import re"
   ]
  },
  {
   "cell_type": "code",
   "execution_count": 5,
   "id": "69067fd1-8890-403f-b997-a9f7fb8b001a",
   "metadata": {},
   "outputs": [
    {
     "ename": "ModuleNotFoundError",
     "evalue": "No module named 'ucimlrepo'",
     "output_type": "error",
     "traceback": [
      "\u001b[0;31m---------------------------------------------------------------------------\u001b[0m",
      "\u001b[0;31mModuleNotFoundError\u001b[0m                       Traceback (most recent call last)",
      "Cell \u001b[0;32mIn[5], line 1\u001b[0m\n\u001b[0;32m----> 1\u001b[0m \u001b[38;5;28;01mfrom\u001b[39;00m \u001b[38;5;21;01mucimlrepo\u001b[39;00m \u001b[38;5;28;01mimport\u001b[39;00m fetch_ucirepo \n\u001b[1;32m      3\u001b[0m \u001b[38;5;66;03m# fetch dataset \u001b[39;00m\n\u001b[1;32m      4\u001b[0m regensburg_pediatric_appendicitis \u001b[38;5;241m=\u001b[39m fetch_ucirepo(\u001b[38;5;28mid\u001b[39m\u001b[38;5;241m=\u001b[39m\u001b[38;5;241m938\u001b[39m) \n",
      "\u001b[0;31mModuleNotFoundError\u001b[0m: No module named 'ucimlrepo'"
     ]
    }
   ],
   "source": [
    "from ucimlrepo import fetch_ucirepo \n",
    "  \n",
    "# fetch dataset \n",
    "regensburg_pediatric_appendicitis = fetch_ucirepo(id=938) \n",
    "  \n",
    "# data (as pandas dataframes) \n",
    "X = regensburg_pediatric_appendicitis.data.features \n",
    "y = regensburg_pediatric_appendicitis.data.targets \n",
    "  \n",
    "# metadata \n",
    "print(regensburg_pediatric_appendicitis.metadata) \n",
    "  \n",
    "# variable information \n",
    "print(regensburg_pediatric_appendicitis.variables) "
   ]
  },
  {
   "cell_type": "code",
   "execution_count": 7,
   "id": "05951c5c-430b-42cd-9bad-0fe811dc2553",
   "metadata": {},
   "outputs": [
    {
     "name": "stdout",
     "output_type": "stream",
     "text": [
      "{'61': [['61.2_App_L_surr._tissue_reaction.png', '61.4_App.png', '61.1_App_T_surr._tissue_reaction.png', '61.3_App.png'], 1, [0.714277813869835, 0.0, 0.7144322810413849, 0.017146306454157642, -0.5319299200212423, 6.0, 6.0, 0.0, 1.0, 1.0, 0.0, 0.0, 0.0, 1.0, 0.0, 0.7055608818768323, 0.0, 0.0, -0.819509714853897, 0.5755899390666621, -0.04053867504609838, 0.0, 0.0, 0.0, 1.0, 0.47159474849000954, 1.0, 1.0, 1.0, 1.0, 0.0, 1.0, 0.0, 0.0, 0.0, 0.0, 0.0, 0.0, 0.0, 0.0, 1.0], [1.0, 1.0, 1.0, 1.0, 1.0, 0.0, 0.0, 0.0, 0.0, 0.0, 0.47159474849000954, 0.0, 0.0, 0.0, 1.0]], '119': [['119.2_App_M.png', '119.3_App_D.png', '119.5_App_M.png', '119.4_App.png', '119.1_App.png'], 1, [0.7205136773514522, 1.0, -0.045378305960132655, 0.2482426226111042, 0.7292568761367859, 3.0, 2.0, 1.0, 0.0, 1.0, 0.0, 0.0, 0.0, 0.0, 0.0, 0.5840809909468845, 0.0, 1.0, -0.6324846251942166, -0.06217415473659873, -0.3956693704933981, 0.0, 0.0, 0.0, 1.0, 1.262948399962931, 1.0, 1.0, 0.0, 1.0, 0.0, 1.0, 0.0, 0.0, 0.0, 0.0, 0.0, 0.0, 0.0, 0.0, 0.0], [1.0, 1.0, 1.0, 0.0, 1.0, 0.0, 0.0, 0.0, 0.0, 0.0, 1.262948399962931, 0.0, 0.0, 0.0, 0.0]], '342': [['342.1_App_M.png'], 0, [-0.9436647069518053, 0.0, -0.29864850162730516, -0.2717240887420255, 0.04648597531181318, 5.0, 3.0, 0.0, 0.0, 1.0, 0.0, 0.0, 0.0, 0.0, 0.0, -0.2662921480451187, 0.0, 0.0, -0.2584344458748554, -0.9148365421307363, -0.5478682399708122, 1.0, 0.0, 0.0, 1.0, -1.506789380192294, 0.0, 0.0, 0.0, 0.0, 0.0, 0.0, 0.0, 0.0, 0.0, 0.0, 0.0, 0.0, 0.0, 0.0, 0.0], [1.0, 0.0, 0.0, 0.0, 0.0, 0.0, 0.0, 0.0, 0.0, 0.0, -1.506789380192294, 0.0, 0.0, 0.0, 0.0]], '774': [['774.1_App.png', '774.2_App_M.png'], 1, [-0.29349115872708115, 0.0, -0.5012646581610432, -0.8783519186540102, -0.9890405133370065, 6.0, 4.0, 0.0, 1.0, 1.0, 1.0, 0.0, 0.0, 1.0, 0.0, 0.4625964658561473, 0.0, 1.0, -0.46416193748388934, -0.27014060358604763, -0.4464023269858695, 1.0, 0.0, 0.0, 1.0, 0.47159474849000954, 0.0, 1.0, 0.0, 0.0, 1.0, 1.0, 0.0, 0.0, 0.0, 0.0, 0.0, 0.0, 0.0, 1.0, 0.0], [1.0, 0.0, 1.0, 0.0, 1.0, 0.0, 0.0, 0.0, 0.0, 0.0, 0.47159474849000954, 1.0, 0.0, 1.0, 0.0]], '591': [['591.12_App_M.png', '591.8_App.png', '591.6_App_M.png', '591.5_App_M.png', '591.4_App_M.png', '591.11_App.png', '591.3_App_M.png', '591.10_App.png', '591.1_App.png', '591.9_App.png', '591.7_App.png', '591.2_App.png'], 1, [-1.7483243266604227, 1.0, -1.08378610819554, -1.138335274330575, -0.7697722934482574, 7.0, 7.0, 0.0, 0.0, 1.0, 0.0, 0.0, 0.0, 0.0, 0.0, 0.4625964658561473, 0.0, 0.0, 0.5083684930742446, 0.6865052726758291, 0.6020787738585393, 1.0, 0.0, 0.0, 1.0, -0.3197589029829119, 0.0, 0.0, 0.0, 0.0, 0.0, 1.0, 1.0, 1.0, 0.0, 0.0, 0.0, 0.0, 0.0, 0.0, 0.0], [1.0, 0.0, 0.0, 0.0, 1.0, 1.0, 1.0, 0.0, 0.0, 0.0, -0.3197589029829119, 0.0, 0.0, 0.0, 0.0]]}\n"
     ]
    }
   ],
   "source": [
    "file_path = '/home/RDC/simnacma/H:/simnacma/CITs/regensburg_pediatric_data/data/meta_data/diagnosis/imputed/final/app_data'\n",
    "\n",
    "with open(file_path, 'r') as file:\n",
    "    meta_data = json.load(file)\n",
    "meta_data_short = {key: meta_data[key] for key in list(meta_data)[:5]}\n",
    "print(meta_data_short)"
   ]
  },
  {
   "cell_type": "code",
   "execution_count": 10,
   "id": "771034fc",
   "metadata": {},
   "outputs": [
    {
     "name": "stdout",
     "output_type": "stream",
     "text": [
      "['/home/RDC/simnacma/H:/simnacma/CITs/regensburg_pediatric_data/data/preprocessed/constant_padding/deepfilled_cropped/61.2_App_L_surr._tissue_reaction.png', '/home/RDC/simnacma/H:/simnacma/CITs/regensburg_pediatric_data/data/preprocessed/constant_padding/deepfilled_cropped/119.2_App_M.png', '/home/RDC/simnacma/H:/simnacma/CITs/regensburg_pediatric_data/data/preprocessed/constant_padding/deepfilled_cropped/342.1_App_M.png', '/home/RDC/simnacma/H:/simnacma/CITs/regensburg_pediatric_data/data/preprocessed/constant_padding/deepfilled_cropped/774.1_App.png', '/home/RDC/simnacma/H:/simnacma/CITs/regensburg_pediatric_data/data/preprocessed/constant_padding/deepfilled_cropped/591.12_App_M.png']\n"
     ]
    }
   ],
   "source": [
    "# Directory containing the images\n",
    "image_dir = '/home/RDC/simnacma/H:/simnacma/CITs/regensburg_pediatric_data/data/preprocessed/constant_padding/deepfilled_cropped/'\n",
    "image_paths = []\n",
    "for key, value in meta_data.items():\n",
    "    #directory_name = key  # Directory name\n",
    "    filename = value[0][0]   # List of filenames\n",
    "    labels = value[1] \n",
    "    image_path = os.path.join(image_dir, filename)\n",
    "    #print(image_path)\n",
    "    image_paths.append(image_path)\n",
    "print(image_paths[0:5])"
   ]
  },
  {
   "cell_type": "code",
   "execution_count": 11,
   "id": "3f38d469",
   "metadata": {},
   "outputs": [],
   "source": [
    "model, _, preprocess = open_clip.create_model_and_transforms('ViT-B-32', pretrained='laion2b_s34b_b79k')"
   ]
  },
  {
   "cell_type": "code",
   "execution_count": 53,
   "id": "ac97a8e2",
   "metadata": {},
   "outputs": [],
   "source": [
    "# Define your process_image function\n",
    "def process_image(image_path):\n",
    "    # Load image using PIL\n",
    "    img = Image.open(image_path)\n",
    "    img_preprocessed = preprocess(img).unsqueeze(0)\n",
    "    # Obtain embeddings for the images\n",
    "    with torch.no_grad():\n",
    "        embedding = model.encode_image(img_preprocessed).float()\n",
    "        embedding /= embedding.norm(dim=-1, keepdim=True)\n",
    "    return(embedding.numpy()[0])"
   ]
  },
  {
   "cell_type": "code",
   "execution_count": 54,
   "id": "458ff65b",
   "metadata": {},
   "outputs": [],
   "source": [
    "features = {}\n",
    "pattern = r'/(\\d+)\\.'\n",
    "for i, path in enumerate(image_paths):\n",
    "    # Use regex to search for the number in the file path\n",
    "    pattern_ = str(re.search(pattern, image_paths[i]).group())\n",
    "    subject_id = re.findall(r'\\d+', pattern_)[0]\n",
    "    features[subject_id] = process_image(path)"
   ]
  },
  {
   "cell_type": "code",
   "execution_count": 58,
   "id": "9f77219b",
   "metadata": {},
   "outputs": [
    {
     "name": "stdout",
     "output_type": "stream",
     "text": [
      "-0.009007174\n"
     ]
    }
   ],
   "source": [
    "print(features['61'][0])"
   ]
  },
  {
   "cell_type": "code",
   "execution_count": 59,
   "id": "96822dc5",
   "metadata": {},
   "outputs": [],
   "source": [
    "features_path = '/home/RDC/simnacma/H:/simnacma/CITs/regensburg_pediatric_data/data/feature_representations/preprocessed_constant_padding/features.npz'\n",
    "# Save the dictionary to a .npz file\n",
    "np.savez(features_path, **features)"
   ]
  }
 ],
 "metadata": {
  "kernelspec": {
   "display_name": "Python 3 (ipykernel)",
   "language": "python",
   "name": "python3"
  },
  "language_info": {
   "codemirror_mode": {
    "name": "ipython",
    "version": 3
   },
   "file_extension": ".py",
   "mimetype": "text/x-python",
   "name": "python",
   "nbconvert_exporter": "python",
   "pygments_lexer": "ipython3",
   "version": "3.10.4"
  }
 },
 "nbformat": 4,
 "nbformat_minor": 5
}
