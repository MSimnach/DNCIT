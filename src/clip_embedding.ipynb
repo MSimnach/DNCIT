{
 "cells": [
  {
   "cell_type": "code",
   "execution_count": 1,
   "id": "69067fd1-8890-403f-b997-a9f7fb8b001a",
   "metadata": {},
   "outputs": [
    {
     "name": "stdout",
     "output_type": "stream",
     "text": [
      "{'uci_id': 938, 'name': 'Regensburg Pediatric Appendicitis', 'repository_url': 'https://archive.ics.uci.edu/dataset/938/regensburg+pediatric+appendicitis', 'data_url': 'https://archive.ics.uci.edu/static/public/938/data.csv', 'abstract': 'This repository holds the data from a cohort of pediatric patients with suspected appendicitis admitted with abdominal pain to Children’s Hospital St. Hedwig in Regensburg, Germany, between 2016 and 2021. Each patient has (potentially multiple) ultrasound (US) images, aka views, tabular data comprising laboratory, physical examination, scoring results and ultrasonographic findings extracted manually by the experts, and three target variables, namely, diagnosis, management and severity.', 'area': 'Health and Medicine', 'tasks': ['Classification'], 'characteristics': ['Tabular', 'Image'], 'num_instances': 782, 'num_features': 53, 'feature_types': ['Real', 'Categorical', 'Integer'], 'demographics': ['Age', 'Sex'], 'target_col': ['Management', 'Severity', 'Diagnosis'], 'index_col': None, 'has_missing_values': 'yes', 'missing_values_symbol': 'NaN', 'year_of_dataset_creation': 2023, 'last_updated': 'Tue Feb 06 2024', 'dataset_doi': '10.5281/zenodo.7669442', 'creators': ['Ricards Marcinkevics', 'Patricia Reis', 'Ugne Klimiene', 'Ece Ozkan', 'Kieran Chin-Cheong', 'Alyssia Paschke', 'Julia Zerres', 'Markus Denzinger', 'David Niederberger', 'S. Wellmann', 'C. Knorr', 'Julia E.'], 'intro_paper': {'title': 'Interpretable and Intervenable Ultrasonography-based Machine Learning Models for Pediatric Appendicitis', 'authors': 'Ricards Marcinkevics, Patricia Reis Wolfertstetter, Ugne Klimiene, Ece Ozkan, Kieran Chin-Cheong, Alyssia Paschke, Julia Zerres, Markus Denzinger, David Niederberger, S. Wellmann, C. Knorr, Julia E. Vogt', 'published_in': 'Medical Image Analysis', 'year': 2023, 'url': 'https://arxiv.org/abs/2302.14460v2', 'doi': None}, 'additional_info': {'summary': 'This dataset was acquired in a retrospective study from a cohort of pediatric patients admitted with abdominal pain to Children’s Hospital St. Hedwig in Regensburg, Germany. Multiple abdominal B-mode ultrasound images were acquired for most patients, with the number of views varying from 1 to 15. The images depict various regions of interest, such as the abdomen’s right lower quadrant, appendix, intestines, lymph nodes and reproductive organs. Alongside multiple US images for each subject, the dataset includes information encompassing laboratory tests, physical examination results, clinical scores, such as Alvarado and pediatric appendicitis scores, and expert-produced ultrasonographic findings. Lastly, the subjects were labeled w.r.t. three target variables: diagnosis (appendicitis vs. no appendicitis), management (surgical vs. conservative) and severity (complicated vs. uncomplicated or no appendicitis). The study was approved by the Ethics Committee of the University of Regensburg (no. 18-1063-101, 18-1063_1-101 and 18-1063_2-101) and was performed following applicable guidelines and regulations.', 'purpose': None, 'funded_by': None, 'instances_represent': None, 'recommended_data_splits': None, 'sensitive_data': None, 'preprocessing_description': None, 'variable_info': None, 'citation': None}, 'external_url': 'https://zenodo.org/records/7669442'}\n",
      "                                name     role         type demographic  \\\n",
      "0                                Age  Feature   Continuous         Age   \n",
      "1                                BMI  Feature   Continuous        None   \n",
      "2                                Sex  Feature  Categorical         Sex   \n",
      "3                             Height  Feature   Continuous        None   \n",
      "4                             Weight  Feature      Integer        None   \n",
      "5                     Length_of_Stay  Feature      Integer        None   \n",
      "6                         Management   Target  Categorical        None   \n",
      "7                           Severity   Target  Categorical        None   \n",
      "8              Diagnosis_Presumptive    Other       Binary        None   \n",
      "9                          Diagnosis   Target       Binary        None   \n",
      "10                    Alvarado_Score  Feature      Integer        None   \n",
      "11     Paedriatic_Appendicitis_Score  Feature      Integer        None   \n",
      "12                    Appendix_on_US  Feature       Binary        None   \n",
      "13                 Appendix_Diameter  Feature      Integer        None   \n",
      "14                    Migratory_Pain  Feature       Binary        None   \n",
      "15              Lower_Right_Abd_Pain  Feature       Binary        None   \n",
      "16  Contralateral_Rebound_Tenderness  Feature       Binary        None   \n",
      "17                     Coughing_Pain  Feature       Binary        None   \n",
      "18                            Nausea  Feature       Binary        None   \n",
      "19                  Loss_of_Appetite  Feature       Binary        None   \n",
      "20                  Body_Temperature  Feature   Continuous        None   \n",
      "21                         WBC_Count  Feature   Continuous        None   \n",
      "22             Neutrophil_Percentage  Feature      Integer        None   \n",
      "23             Segmented_Neutrophils  Feature      Integer        None   \n",
      "24                      Neutrophilia  Feature  Categorical        None   \n",
      "25                         RBC_Count  Feature   Continuous        None   \n",
      "26                        Hemoglobin  Feature   Continuous        None   \n",
      "27                               RDW  Feature   Continuous        None   \n",
      "28                 Thrombocyte_Count  Feature      Integer        None   \n",
      "29                  Ketones_in_Urine  Feature  Categorical        None   \n",
      "30                      RBC_in_Urine  Feature  Categorical        None   \n",
      "31                      WBC_in_Urine  Feature  Categorical        None   \n",
      "32                               CRP  Feature      Integer        None   \n",
      "33                           Dysuria  Feature       Binary        None   \n",
      "34                             Stool  Feature  Categorical        None   \n",
      "35                       Peritonitis  Feature  Categorical        None   \n",
      "36                        Psoas_Sign  Feature  Categorical        None   \n",
      "37    Ipsilateral_Rebound_Tenderness  Feature  Categorical        None   \n",
      "38                      US_Performed  Feature  Categorical        None   \n",
      "39                         US_Number    Other      Integer        None   \n",
      "40                       Free_Fluids  Feature  Categorical        None   \n",
      "41              Appendix_Wall_Layers  Feature  Categorical        None   \n",
      "42                       Target_Sign  Feature  Categorical        None   \n",
      "43                     Appendicolith  Feature  Categorical        None   \n",
      "44                         Perfusion  Feature  Categorical        None   \n",
      "45                       Perforation  Feature  Categorical        None   \n",
      "46       Surrounding_Tissue_Reaction  Feature  Categorical        None   \n",
      "47              Appendicular_Abscess  Feature  Categorical        None   \n",
      "48                  Abscess_Location  Feature  Categorical        None   \n",
      "49          Pathological_Lymph_Nodes  Feature       Binary        None   \n",
      "50              Lymph_Nodes_Location  Feature  Categorical        None   \n",
      "51             Bowel_Wall_Thickening  Feature       Binary        None   \n",
      "52       Conglomerate_of_Bowel_Loops  Feature       Binary        None   \n",
      "53                             Ileus  Feature  Categorical        None   \n",
      "54                       Coprostasis  Feature  Categorical        None   \n",
      "55                         Meteorism  Feature  Categorical        None   \n",
      "56                         Enteritis  Feature  Categorical        None   \n",
      "57            Gynecological_Findings  Feature  Categorical        None   \n",
      "\n",
      "                                          description  units missing_values  \n",
      "0                     Obtained from the date of birth  years            yes  \n",
      "1   Measures body fat; patient's weight divided by...   None            yes  \n",
      "2                                   Registered gender   None            yes  \n",
      "3                                    Patient's height   None            yes  \n",
      "4                                    Patient's weight   None            yes  \n",
      "5                  Length of the stay in the hospital   None            yes  \n",
      "6   (conservative, primary surgical, secondary sur...   None            yes  \n",
      "7   (uncomplicated, complicated) Severity of appen...   None            yes  \n",
      "8                       Patient's suspected diagnosis   None            yes  \n",
      "9   Patient's diagnosis, histologically confirmed ...   None            yes  \n",
      "10    Patient's score according to the scoring system   None            yes  \n",
      "11    Patient's score according to the scoring system   None            yes  \n",
      "12  Detectability of the vermiform appendix during...   None            yes  \n",
      "13             Maximal outer diameter of the appendix   None            yes  \n",
      "14  Abdominal pain; usually starts in epigastrium ...   None            yes  \n",
      "15       Right iliac fossa pain detected on palpation   None            yes  \n",
      "16  A state in which pain of the contralateral sid...   None            yes  \n",
      "17                     Abdominal pain by forced cough   None            yes  \n",
      "18  Feeling of sickness/ejection of contents from ...   None            yes  \n",
      "19                                               None   None            yes  \n",
      "20  Measured by a thermometer placed in the rectum...   None            yes  \n",
      "21  The number of leucocytes in a unit volume of b...   None            yes  \n",
      "22              Mature WBC in the granulocytic series   None            yes  \n",
      "23  Most mature neutrophilic granulocytes present ...   None            yes  \n",
      "24  Relative neutrophilic leucocytosis, often a re...   None            yes  \n",
      "25  The number of erythrocytes in a unit volume of...   None            yes  \n",
      "26  Hemoglobin level; a red protein in the red blo...   None            yes  \n",
      "27  A blood test that measures the differences in ...   None            yes  \n",
      "28  The number of platelets in a unit volume of blood   None            yes  \n",
      "29  Presence of ketone bodies in urine, e.g. in ca...   None            yes  \n",
      "30                                     Blood in urine   None            yes  \n",
      "31    Leucocytes in urine, e.g., in case of infection   None            yes  \n",
      "32  Protein produced by the liver, elevated in cas...   None            yes  \n",
      "33          Pain or other difficulty during urination   None            yes  \n",
      "34                 Characteristics of bowel movements   None            yes  \n",
      "35  Spasm of abdominal wall muscles detected on pa...   None            yes  \n",
      "36    Abdominal pain produced by extension of the hip   None            yes  \n",
      "37  A state in which pain of the ipsilateral side ...   None            yes  \n",
      "38  If an abdominal ultrasonography was performed ...   None            yes  \n",
      "39                                               None   None            yes  \n",
      "40                     Free fluids inside the abdomen   None            yes  \n",
      "41  Distribution and characteristics of appendix l...   None            yes  \n",
      "42  Axial image of appendix with a fluid-filled ce...   None            yes  \n",
      "43  Presence of fecalith in the appendix, e.g. aco...   None            yes  \n",
      "44                    Blood flow to the appendix wall   None            yes  \n",
      "45                Signs of appendix perforation in US   None            yes  \n",
      "46  Inflammation signs in tissue (i.a. in omentum/...   None            yes  \n",
      "47                                   Appendiceal mass   None            yes  \n",
      "48             Location of the abcess intraperitoneal   None            yes  \n",
      "49  Enlarged and inflamed intra-abdominal lymph nodes   None            yes  \n",
      "50  The location of pathological lymph nodes in th...   None            yes  \n",
      "51  Edema of the intestinal wall, > 2-3 mm for sma...   None            yes  \n",
      "52  Small intestine conglomerate as sign of intrap...   None            yes  \n",
      "53  Sonographic signs of paralytic ileus (e.g., di...   None            yes  \n",
      "54                       Fecal impaction in the colon   None            yes  \n",
      "55               Accumulation of gas in the intestine   None            yes  \n",
      "56  Sonographic features of gastroenteritis, e.g. ...   None            yes  \n",
      "57  Gynaecological abnormalities, e.g. cysts, ovar...   None            yes  \n"
     ]
    }
   ],
   "source": [
    "from ucimlrepo import fetch_ucirepo \n",
    "  \n",
    "# fetch dataset \n",
    "regensburg_pediatric_appendicitis = fetch_ucirepo(id=938) \n",
    "  \n",
    "# data (as pandas dataframes) \n",
    "X = regensburg_pediatric_appendicitis.data.features \n",
    "y = regensburg_pediatric_appendicitis.data.targets \n",
    "  \n",
    "# metadata \n",
    "print(regensburg_pediatric_appendicitis.metadata) \n",
    "  \n",
    "# variable information \n",
    "print(regensburg_pediatric_appendicitis.variables) "
   ]
  },
  {
   "cell_type": "code",
   "execution_count": 13,
   "id": "05951c5c-430b-42cd-9bad-0fe811dc2553",
   "metadata": {},
   "outputs": [
    {
     "data": {
      "text/plain": [
       "{'ids': None,\n",
       " 'features':        Age    BMI     Sex  Height  Weight  Length_of_Stay  Alvarado_Score  \\\n",
       " 0    12.68  16.90  female   148.0    37.0             3.0             4.0   \n",
       " 1    14.10  31.90    male   147.0    69.5             2.0             5.0   \n",
       " 2    14.14  23.30  female   163.0    62.0             4.0             5.0   \n",
       " 3    16.37  20.60  female   165.0    56.0             3.0             7.0   \n",
       " 4    11.08  16.90  female   163.0    45.0             3.0             5.0   \n",
       " ..     ...    ...     ...     ...     ...             ...             ...   \n",
       " 777  12.41  25.25  female   166.5    70.0             4.0             8.0   \n",
       " 778  17.09  20.43  female   158.0    51.0             6.0             5.0   \n",
       " 779  14.99  19.91  female   152.0    46.0             4.0             5.0   \n",
       " 780   7.20  14.30    male   129.3    23.9             5.0             9.0   \n",
       " 781  11.51  18.17    male   146.5    39.0             4.0             2.0   \n",
       " \n",
       "      Paedriatic_Appendicitis_Score Appendix_on_US  Appendix_Diameter  ...  \\\n",
       " 0                              3.0            yes                7.1  ...   \n",
       " 1                              4.0             no                NaN  ...   \n",
       " 2                              3.0             no                NaN  ...   \n",
       " 3                              6.0             no                NaN  ...   \n",
       " 4                              6.0            yes                7.0  ...   \n",
       " ..                             ...            ...                ...  ...   \n",
       " 777                            7.0            yes                7.5  ...   \n",
       " 778                            3.0             no                NaN  ...   \n",
       " 779                            3.0             no                NaN  ...   \n",
       " 780                            8.0            yes               14.0  ...   \n",
       " 781                            2.0            yes                8.0  ...   \n",
       " \n",
       "     Abscess_Location Pathological_Lymph_Nodes Lymph_Nodes_Location  \\\n",
       " 0                NaN                      yes                 reUB   \n",
       " 1                NaN                      NaN                  NaN   \n",
       " 2                NaN                      NaN                  NaN   \n",
       " 3                NaN                      yes                 reUB   \n",
       " 4                NaN                      yes                 reUB   \n",
       " ..               ...                      ...                  ...   \n",
       " 777              NaN                      NaN                  NaN   \n",
       " 778          Douglas                      NaN                  NaN   \n",
       " 779              NaN                      NaN                  NaN   \n",
       " 780              NaN                       no                  NaN   \n",
       " 781              NaN                      yes   rechter Unterbauch   \n",
       " \n",
       "     Bowel_Wall_Thickening Conglomerate_of_Bowel_Loops Ileus  Coprostasis  \\\n",
       " 0                     NaN                         NaN   NaN          NaN   \n",
       " 1                     NaN                         NaN   NaN          NaN   \n",
       " 2                     NaN                         NaN   NaN          NaN   \n",
       " 3                     NaN                         NaN   NaN          NaN   \n",
       " 4                     NaN                         NaN   NaN          NaN   \n",
       " ..                    ...                         ...   ...          ...   \n",
       " 777                   NaN                         NaN   NaN          NaN   \n",
       " 778                   yes                         yes   NaN          NaN   \n",
       " 779                   NaN                         NaN   NaN          NaN   \n",
       " 780                   yes                         NaN    no          NaN   \n",
       " 781                   NaN                         NaN   yes          NaN   \n",
       " \n",
       "      Meteorism  Enteritis  Gynecological_Findings  \n",
       " 0          NaN        NaN                     NaN  \n",
       " 1          yes        NaN                     NaN  \n",
       " 2          yes        yes                     NaN  \n",
       " 3          NaN        yes                     NaN  \n",
       " 4          NaN        yes                     NaN  \n",
       " ..         ...        ...                     ...  \n",
       " 777        NaN        NaN                     NaN  \n",
       " 778        NaN        NaN                     NaN  \n",
       " 779        NaN        NaN             unauffällig  \n",
       " 780        NaN        NaN                     NaN  \n",
       " 781        NaN        NaN                     NaN  \n",
       " \n",
       " [782 rows x 53 columns],\n",
       " 'targets':              Management       Severity        Diagnosis\n",
       " 0          conservative  uncomplicated     appendicitis\n",
       " 1          conservative  uncomplicated  no appendicitis\n",
       " 2          conservative  uncomplicated  no appendicitis\n",
       " 3          conservative  uncomplicated  no appendicitis\n",
       " 4          conservative  uncomplicated     appendicitis\n",
       " ..                  ...            ...              ...\n",
       " 777    primary surgical  uncomplicated     appendicitis\n",
       " 778  secondary surgical    complicated     appendicitis\n",
       " 779    primary surgical  uncomplicated     appendicitis\n",
       " 780    primary surgical  uncomplicated     appendicitis\n",
       " 781    primary surgical  uncomplicated     appendicitis\n",
       " \n",
       " [782 rows x 3 columns],\n",
       " 'original':        Age    BMI     Sex  Height  Weight  Length_of_Stay          Management  \\\n",
       " 0    12.68  16.90  female   148.0    37.0             3.0        conservative   \n",
       " 1    14.10  31.90    male   147.0    69.5             2.0        conservative   \n",
       " 2    14.14  23.30  female   163.0    62.0             4.0        conservative   \n",
       " 3    16.37  20.60  female   165.0    56.0             3.0        conservative   \n",
       " 4    11.08  16.90  female   163.0    45.0             3.0        conservative   \n",
       " ..     ...    ...     ...     ...     ...             ...                 ...   \n",
       " 777  12.41  25.25  female   166.5    70.0             4.0    primary surgical   \n",
       " 778  17.09  20.43  female   158.0    51.0             6.0  secondary surgical   \n",
       " 779  14.99  19.91  female   152.0    46.0             4.0    primary surgical   \n",
       " 780   7.20  14.30    male   129.3    23.9             5.0    primary surgical   \n",
       " 781  11.51  18.17    male   146.5    39.0             4.0    primary surgical   \n",
       " \n",
       "           Severity Diagnosis_Presumptive        Diagnosis  ...  \\\n",
       " 0    uncomplicated          appendicitis     appendicitis  ...   \n",
       " 1    uncomplicated          appendicitis  no appendicitis  ...   \n",
       " 2    uncomplicated          appendicitis  no appendicitis  ...   \n",
       " 3    uncomplicated          appendicitis  no appendicitis  ...   \n",
       " 4    uncomplicated          appendicitis     appendicitis  ...   \n",
       " ..             ...                   ...              ...  ...   \n",
       " 777  uncomplicated          appendicitis     appendicitis  ...   \n",
       " 778    complicated          appendicitis     appendicitis  ...   \n",
       " 779  uncomplicated          appendicitis     appendicitis  ...   \n",
       " 780  uncomplicated          appendicitis     appendicitis  ...   \n",
       " 781  uncomplicated          appendicitis     appendicitis  ...   \n",
       " \n",
       "      Abscess_Location  Pathological_Lymph_Nodes Lymph_Nodes_Location  \\\n",
       " 0                 NaN                       yes                 reUB   \n",
       " 1                 NaN                       NaN                  NaN   \n",
       " 2                 NaN                       NaN                  NaN   \n",
       " 3                 NaN                       yes                 reUB   \n",
       " 4                 NaN                       yes                 reUB   \n",
       " ..                ...                       ...                  ...   \n",
       " 777               NaN                       NaN                  NaN   \n",
       " 778           Douglas                       NaN                  NaN   \n",
       " 779               NaN                       NaN                  NaN   \n",
       " 780               NaN                        no                  NaN   \n",
       " 781               NaN                       yes   rechter Unterbauch   \n",
       " \n",
       "      Bowel_Wall_Thickening Conglomerate_of_Bowel_Loops Ileus Coprostasis  \\\n",
       " 0                      NaN                         NaN   NaN         NaN   \n",
       " 1                      NaN                         NaN   NaN         NaN   \n",
       " 2                      NaN                         NaN   NaN         NaN   \n",
       " 3                      NaN                         NaN   NaN         NaN   \n",
       " 4                      NaN                         NaN   NaN         NaN   \n",
       " ..                     ...                         ...   ...         ...   \n",
       " 777                    NaN                         NaN   NaN         NaN   \n",
       " 778                    yes                         yes   NaN         NaN   \n",
       " 779                    NaN                         NaN   NaN         NaN   \n",
       " 780                    yes                         NaN    no         NaN   \n",
       " 781                    NaN                         NaN   yes         NaN   \n",
       " \n",
       "     Meteorism Enteritis Gynecological_Findings  \n",
       " 0         NaN       NaN                    NaN  \n",
       " 1         yes       NaN                    NaN  \n",
       " 2         yes       yes                    NaN  \n",
       " 3         NaN       yes                    NaN  \n",
       " 4         NaN       yes                    NaN  \n",
       " ..        ...       ...                    ...  \n",
       " 777       NaN       NaN                    NaN  \n",
       " 778       NaN       NaN                    NaN  \n",
       " 779       NaN       NaN            unauffällig  \n",
       " 780       NaN       NaN                    NaN  \n",
       " 781       NaN       NaN                    NaN  \n",
       " \n",
       " [782 rows x 58 columns],\n",
       " 'headers': Index(['Age', 'BMI', 'Sex', 'Height', 'Weight', 'Length_of_Stay', 'Management',\n",
       "        'Severity', 'Diagnosis_Presumptive', 'Diagnosis', 'Alvarado_Score',\n",
       "        'Paedriatic_Appendicitis_Score', 'Appendix_on_US', 'Appendix_Diameter',\n",
       "        'Migratory_Pain', 'Lower_Right_Abd_Pain',\n",
       "        'Contralateral_Rebound_Tenderness', 'Coughing_Pain', 'Nausea',\n",
       "        'Loss_of_Appetite', 'Body_Temperature', 'WBC_Count',\n",
       "        'Neutrophil_Percentage', 'Segmented_Neutrophils', 'Neutrophilia',\n",
       "        'RBC_Count', 'Hemoglobin', 'RDW', 'Thrombocyte_Count',\n",
       "        'Ketones_in_Urine', 'RBC_in_Urine', 'WBC_in_Urine', 'CRP', 'Dysuria',\n",
       "        'Stool', 'Peritonitis', 'Psoas_Sign', 'Ipsilateral_Rebound_Tenderness',\n",
       "        'US_Performed', 'US_Number', 'Free_Fluids', 'Appendix_Wall_Layers',\n",
       "        'Target_Sign', 'Appendicolith', 'Perfusion', 'Perforation',\n",
       "        'Surrounding_Tissue_Reaction', 'Appendicular_Abscess',\n",
       "        'Abscess_Location', 'Pathological_Lymph_Nodes', 'Lymph_Nodes_Location',\n",
       "        'Bowel_Wall_Thickening', 'Conglomerate_of_Bowel_Loops', 'Ileus',\n",
       "        'Coprostasis', 'Meteorism', 'Enteritis', 'Gynecological_Findings'],\n",
       "       dtype='object')}"
      ]
     },
     "execution_count": 13,
     "metadata": {},
     "output_type": "execute_result"
    }
   ],
   "source": [
    "ultrasonic_images_path = 'H:/simnacma/CITs/regensburg_pediatric_data/preprocessed/constant_padding/deepfilled_cropped/'\n"
   ]
  },
  {
   "cell_type": "code",
   "execution_count": 4,
   "id": "18827f99-f6b9-4c2a-8741-b436abbbed07",
   "metadata": {},
   "outputs": [
    {
     "data": {
      "text/plain": [
       "Age                                   14.1\n",
       "BMI                                   31.9\n",
       "Sex                                   male\n",
       "Height                               147.0\n",
       "Weight                                69.5\n",
       "Length_of_Stay                         2.0\n",
       "Alvarado_Score                         5.0\n",
       "Paedriatic_Appendicitis_Score          4.0\n",
       "Appendix_on_US                          no\n",
       "Appendix_Diameter                      NaN\n",
       "Migratory_Pain                         yes\n",
       "Lower_Right_Abd_Pain                   yes\n",
       "Contralateral_Rebound_Tenderness       yes\n",
       "Coughing_Pain                           no\n",
       "Nausea                                  no\n",
       "Loss_of_Appetite                       yes\n",
       "Body_Temperature                      36.9\n",
       "WBC_Count                              8.1\n",
       "Neutrophil_Percentage                 64.8\n",
       "Segmented_Neutrophils                  NaN\n",
       "Neutrophilia                            no\n",
       "RBC_Count                             5.26\n",
       "Hemoglobin                            15.7\n",
       "RDW                                   12.7\n",
       "Thrombocyte_Count                    151.0\n",
       "Ketones_in_Urine                        no\n",
       "RBC_in_Urine                            no\n",
       "WBC_in_Urine                            no\n",
       "CRP                                    3.0\n",
       "Dysuria                                yes\n",
       "Stool                               normal\n",
       "Peritonitis                             no\n",
       "Psoas_Sign                             yes\n",
       "Ipsilateral_Rebound_Tenderness          no\n",
       "US_Performed                           yes\n",
       "Free_Fluids                             no\n",
       "Appendix_Wall_Layers                   NaN\n",
       "Target_Sign                            NaN\n",
       "Appendicolith                          NaN\n",
       "Perfusion                              NaN\n",
       "Perforation                            NaN\n",
       "Surrounding_Tissue_Reaction            NaN\n",
       "Appendicular_Abscess                   NaN\n",
       "Abscess_Location                       NaN\n",
       "Pathological_Lymph_Nodes               NaN\n",
       "Lymph_Nodes_Location                   NaN\n",
       "Bowel_Wall_Thickening                  NaN\n",
       "Conglomerate_of_Bowel_Loops            NaN\n",
       "Ileus                                  NaN\n",
       "Coprostasis                            NaN\n",
       "Meteorism                              yes\n",
       "Enteritis                              NaN\n",
       "Gynecological_Findings                 NaN\n",
       "Name: 1, dtype: object"
      ]
     },
     "execution_count": 4,
     "metadata": {},
     "output_type": "execute_result"
    }
   ],
   "source": [
    "X.loc[1]"
   ]
  },
  {
   "cell_type": "code",
   "execution_count": 9,
   "id": "a1e523a8-ee61-43b3-8195-2a0521b71363",
   "metadata": {},
   "outputs": [],
   "source": [
    "import torch\n",
    "import numpy as np\n",
    "from PIL import Image\n",
    "import open_clip"
   ]
  },
  {
   "cell_type": "code",
   "execution_count": 134,
   "id": "37f49b54-68b8-4730-869b-e0c7918bd8e8",
   "metadata": {},
   "outputs": [],
   "source": [
    "model, _, preprocess = open_clip.create_model_and_transforms('ViT-B-32', pretrained='laion2b_s34b_b79k')"
   ]
  },
  {
   "cell_type": "code",
   "execution_count": 135,
   "id": "efd32887-5f91-452c-8759-e86ec6313e8b",
   "metadata": {},
   "outputs": [
    {
     "name": "stdout",
     "output_type": "stream",
     "text": [
      "Model parameters: 151,277,313\n",
      "Context length: 77\n",
      "Vocab size: 49408\n"
     ]
    }
   ],
   "source": [
    "model.eval()\n",
    "context_length = model.context_length\n",
    "vocab_size = model.vocab_size\n",
    "\n",
    "print(\"Model parameters:\", f\"{np.sum([int(np.prod(p.shape)) for p in model.parameters()]):,}\")\n",
    "print(\"Context length:\", context_length)\n",
    "print(\"Vocab size:\", vocab_size)"
   ]
  },
  {
   "cell_type": "code",
   "execution_count": 136,
   "id": "8de8b99e-afde-47d9-a1c0-0f16d0727fe0",
   "metadata": {},
   "outputs": [
    {
     "data": {
      "text/plain": [
       "Compose(\n",
       "    Resize(size=224, interpolation=bicubic, max_size=None, antialias=True)\n",
       "    CenterCrop(size=(224, 224))\n",
       "    <function _convert_to_rgb at 0x000001E917AA0180>\n",
       "    ToTensor()\n",
       "    Normalize(mean=(0.48145466, 0.4578275, 0.40821073), std=(0.26862954, 0.26130258, 0.27577711))\n",
       ")"
      ]
     },
     "execution_count": 136,
     "metadata": {},
     "output_type": "execute_result"
    }
   ],
   "source": [
    "preprocess"
   ]
  },
  {
   "cell_type": "code",
   "execution_count": 138,
   "id": "a0907b67-9735-430a-8e67-e26d06cf9945",
   "metadata": {},
   "outputs": [],
   "source": [
    "import torch.nn as nn\n",
    "import torch.optim as optim\n",
    "import torch.utils.data as data\n",
    "from torchvision import datasets, transforms\n",
    "\n",
    "import medmnist\n",
    "from medmnist import INFO, Evaluator"
   ]
  },
  {
   "cell_type": "code",
   "execution_count": 139,
   "id": "00a27cf7-a8ca-42d4-a4dc-86ee963acd62",
   "metadata": {},
   "outputs": [
    {
     "name": "stdout",
     "output_type": "stream",
     "text": [
      "MedMNIST v3.0.1 @ https://github.com/MedMNIST/MedMNIST/\n"
     ]
    }
   ],
   "source": [
    "print(f\"MedMNIST v{medmnist.__version__} @ {medmnist.HOMEPAGE}\")"
   ]
  },
  {
   "cell_type": "code",
   "execution_count": 140,
   "id": "669a01ed-b8d2-4c57-a466-6eff882aeae0",
   "metadata": {},
   "outputs": [],
   "source": [
    "data_flag = 'breastmnist'\n",
    "# data_flag = 'breastmnist'\n",
    "download = True\n",
    "\n",
    "NUM_EPOCHS = 3\n",
    "BATCH_SIZE = 64\n",
    "lr = 0.001"
   ]
  },
  {
   "cell_type": "code",
   "execution_count": 141,
   "id": "a86c681a-4293-4c62-9187-1117d930fe0f",
   "metadata": {},
   "outputs": [],
   "source": [
    "info = INFO[data_flag]\n",
    "task = info['task']\n",
    "n_channels = info['n_channels']\n",
    "n_classes = len(info['label'])\n",
    "\n",
    "DataClass = getattr(medmnist, info['python_class'])"
   ]
  },
  {
   "cell_type": "code",
   "execution_count": 142,
   "id": "5bc1d159-887a-41fc-a947-660383b21fc7",
   "metadata": {},
   "outputs": [
    {
     "name": "stdout",
     "output_type": "stream",
     "text": [
      "Using downloaded and verified file: C:\\Users\\Marco\\.medmnist\\breastmnist.npz\n",
      "Using downloaded and verified file: C:\\Users\\Marco\\.medmnist\\breastmnist.npz\n",
      "Using downloaded and verified file: C:\\Users\\Marco\\.medmnist\\breastmnist.npz\n"
     ]
    }
   ],
   "source": [
    "# load the data\n",
    "train_dataset = DataClass(split='train', transform=preprocess, download=download, as_rgb=True)\n",
    "test_dataset = DataClass(split='test', transform=preprocess, download=download, as_rgb=False)\n",
    "\n",
    "pil_dataset = DataClass(split='train', download=download)\n",
    "\n",
    "start_index = 0\n",
    "end_index = 128  # Load first 128 samples, for example\n",
    "\n",
    "# Create a Subset of the dataset containing only the specified indices\n",
    "subset = torch.utils.data.Subset(train_dataset, range(start_index, end_index))"
   ]
  },
  {
   "cell_type": "code",
   "execution_count": 143,
   "id": "74196b54-d388-4bae-a285-f938fe61ebcd",
   "metadata": {},
   "outputs": [],
   "source": [
    "train_loader = data.DataLoader(dataset=subset, batch_size=BATCH_SIZE, shuffle=True)\n",
    "pil_loader = data.DataLoader(dataset=pil_dataset, batch_size=BATCH_SIZE, shuffle=True)"
   ]
  },
  {
   "cell_type": "code",
   "execution_count": 144,
   "id": "827cac25-903f-4b5e-9e5a-35d9721848d0",
   "metadata": {},
   "outputs": [
    {
     "name": "stdout",
     "output_type": "stream",
     "text": [
      "<torch.utils.data.dataset.Subset object at 0x000001E94D035F40>\n"
     ]
    }
   ],
   "source": [
    "print(subset)"
   ]
  },
  {
   "cell_type": "code",
   "execution_count": 145,
   "id": "999c3458-89e3-41fa-9623-7120c35d48a0",
   "metadata": {},
   "outputs": [
    {
     "data": {
      "image/jpeg": "[encoded data removed]",
      "image/png": "[encoded data removed]",
      "text/plain": [
       "<PIL.Image.Image image mode=L size=28x28>"
      ]
     },
     "execution_count": 145,
     "metadata": {},
     "output_type": "execute_result"
    }
   ],
   "source": [
    "train_dataset.montage(length=1)"
   ]
  },
  {
   "cell_type": "code",
   "execution_count": 146,
   "id": "9cba7915-4204-4c22-885a-38a16a8a1faa",
   "metadata": {
    "scrolled": true
   },
   "outputs": [],
   "source": [
    "# List to store feature representations\n",
    "features = []\n",
    "\n",
    "# Iterate over the DataLoader to access batches of data\n",
    "for images, _ in train_loader:\n",
    "    # Apply transformations to the images\n",
    "    # images = preprocess(images).to(device)\n",
    "\n",
    "    # Obtain embeddings for the images\n",
    "    with torch.no_grad():\n",
    "        embeddings = model.encode_image(images).float()\n",
    "        embeddings /= embeddings.norm(dim=-1, keepdim=True)\n",
    "\n",
    "    # Append the embeddings to the features list\n",
    "    features.append(embeddings.cpu().numpy())"
   ]
  },
  {
   "cell_type": "code",
   "execution_count": 151,
   "id": "b85d69f2-c01b-40aa-9434-6431150fa2ea",
   "metadata": {},
   "outputs": [
    {
     "name": "stdout",
     "output_type": "stream",
     "text": [
      "[[-0.0392431  -0.07876793 -0.02355219 ...  0.02742301 -0.00583899\n",
      "  -0.02134407]\n",
      " [-0.04859295 -0.05071741  0.01970769 ...  0.02237301  0.01924399\n",
      "  -0.02781691]\n",
      " [-0.04988016 -0.10676885 -0.01520137 ...  0.04452096 -0.00512853\n",
      "  -0.03463099]\n",
      " ...\n",
      " [-0.04873145  0.01847215  0.01132574 ...  0.00362399  0.01225031\n",
      "  -0.02893541]\n",
      " [-0.04174479 -0.0778585   0.01112214 ...  0.00762837  0.00323934\n",
      "  -0.05025019]\n",
      " [-0.01384686  0.00228164 -0.01217282 ...  0.01448514 -0.01558171\n",
      "  -0.02966568]]\n",
      "(64, 512)\n",
      "2\n",
      "[array([[-0.0392431 , -0.07876793, -0.02355219, ...,  0.02742301,\n",
      "        -0.00583899, -0.02134407],\n",
      "       [-0.04859295, -0.05071741,  0.01970769, ...,  0.02237301,\n",
      "         0.01924399, -0.02781691],\n",
      "       [-0.04988016, -0.10676885, -0.01520137, ...,  0.04452096,\n",
      "        -0.00512853, -0.03463099],\n",
      "       ...,\n",
      "       [-0.04873145,  0.01847215,  0.01132574, ...,  0.00362399,\n",
      "         0.01225031, -0.02893541],\n",
      "       [-0.04174479, -0.0778585 ,  0.01112214, ...,  0.00762837,\n",
      "         0.00323934, -0.05025019],\n",
      "       [-0.01384686,  0.00228164, -0.01217282, ...,  0.01448514,\n",
      "        -0.01558171, -0.02966568]], dtype=float32), array([[-0.04972139,  0.02154206,  0.00850335, ...,  0.03209221,\n",
      "        -0.00580077, -0.05485661],\n",
      "       [-0.01493995, -0.0519909 , -0.03157634, ...,  0.0198574 ,\n",
      "         0.01129281, -0.00485298],\n",
      "       [-0.04660459,  0.02026975,  0.02026554, ...,  0.02789307,\n",
      "         0.01574162, -0.04430561],\n",
      "       ...,\n",
      "       [-0.02185875, -0.1032257 , -0.02253054, ...,  0.01676201,\n",
      "         0.00157306,  0.00622132],\n",
      "       [-0.02722801, -0.02725173, -0.02918559, ...,  0.00397793,\n",
      "         0.02876997, -0.03975576],\n",
      "       [-0.030844  ,  0.01359671, -0.01109132, ...,  0.03622404,\n",
      "         0.01187694, -0.01836169]], dtype=float32)]\n",
      "(128, 512)\n"
     ]
    }
   ],
   "source": [
    "print(features[0])\n",
    "print(features[0].shape)\n",
    "print(len(features))\n",
    "print(features)\n",
    "print(np.concatenate(features, axis=0).shape)"
   ]
  }
 ],
 "metadata": {
  "kernelspec": {
   "display_name": "Python 3 (ipykernel)",
   "language": "python",
   "name": "python3"
  },
  "language_info": {
   "codemirror_mode": {
    "name": "ipython",
    "version": 3
   },
   "file_extension": ".py",
   "mimetype": "text/x-python",
   "name": "python",
   "nbconvert_exporter": "python",
   "pygments_lexer": "ipython3",
   "version": "3.12.2"
  }
 },
 "nbformat": 4,
 "nbformat_minor": 5
}
